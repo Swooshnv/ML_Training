{
  "nbformat": 4,
  "nbformat_minor": 0,
  "metadata": {
    "colab": {
      "provenance": [],
      "authorship_tag": "ABX9TyPmsG0RoomZZHvyPsMEhYqf",
      "include_colab_link": true
    },
    "kernelspec": {
      "name": "python3",
      "display_name": "Python 3"
    },
    "language_info": {
      "name": "python"
    }
  },
  "cells": [
    {
      "cell_type": "markdown",
      "metadata": {
        "id": "view-in-github",
        "colab_type": "text"
      },
      "source": [
        "<a href=\"https://colab.research.google.com/github/Swooshnv/ML_Training/blob/main/02_Aggregating_tensors_and_changing_datatypes.ipynb\" target=\"_parent\"><img src=\"https://colab.research.google.com/assets/colab-badge.svg\" alt=\"Open In Colab\"/></a>"
      ]
    },
    {
      "cell_type": "code",
      "execution_count": 21,
      "metadata": {
        "id": "onNwzmy1okk1"
      },
      "outputs": [],
      "source": [
        "import tensorflow as tf\n",
        "import numpy as np"
      ]
    },
    {
      "cell_type": "code",
      "source": [
        "tensor = tf.constant([2, 6])\n",
        "tensorTwo = tf.constant([2., 6.])\n",
        "print(f\"tensor datatype is {tensor.dtype} \\ntensorTwo datatype is {tensorTwo.dtype}\")"
      ],
      "metadata": {
        "colab": {
          "base_uri": "https://localhost:8080/"
        },
        "id": "s4I_n84lopyw",
        "outputId": "747ee858-b9b7-4b6d-fc10-7a894af68d94"
      },
      "execution_count": 3,
      "outputs": [
        {
          "output_type": "stream",
          "name": "stdout",
          "text": [
            "tensor datatype is <dtype: 'int32'> \n",
            "tensorTwo datatype is <dtype: 'float32'>\n"
          ]
        }
      ]
    },
    {
      "cell_type": "code",
      "source": [
        "# Changing datatype using tf.cast\n",
        "tensorCast = tf.cast(tensor, dtype = tf.int16)\n",
        "tensorTwoCast = tf.cast(tensorTwo, dtype = tf.float16)\n",
        "print(f\"tensorCast dtype is {tensorCast.dtype} \\ntensorTwoCast dtype is {tensorTwoCast.dtype}\")"
      ],
      "metadata": {
        "colab": {
          "base_uri": "https://localhost:8080/"
        },
        "id": "8--NxByosgGl",
        "outputId": "c4231cbe-2ecf-4eb7-8f30-6527e4f80e2e"
      },
      "execution_count": 5,
      "outputs": [
        {
          "output_type": "stream",
          "name": "stdout",
          "text": [
            "tensorCast dtype is <dtype: 'int16'> \n",
            "tensorTwoCast dtype is <dtype: 'float16'>\n"
          ]
        }
      ]
    },
    {
      "cell_type": "code",
      "source": [
        "tensorThree = tf.cast(tensorTwoCast, dtype = tf.int16)\n",
        "print(f\"tensorTwoCast: {tensorTwoCast.numpy()}\\ntensorThree: {tensorThree.numpy()}\")"
      ],
      "metadata": {
        "colab": {
          "base_uri": "https://localhost:8080/"
        },
        "id": "adMO6gFEsukU",
        "outputId": "1bc1952b-c90c-46f4-c098-a4e07fa95f7e"
      },
      "execution_count": 8,
      "outputs": [
        {
          "output_type": "stream",
          "name": "stdout",
          "text": [
            "tensorTwoCast: [2. 6.]\n",
            "tensorThree: [2 6]\n"
          ]
        }
      ]
    },
    {
      "cell_type": "code",
      "source": [
        "# Get the absolute of an input\n",
        "tensor = tf.constant([-2,-7])\n",
        "print(f\"Original tensor: {tensor.numpy()}\\nAbsolute tensor: {tf.abs(tensor.numpy())}\")"
      ],
      "metadata": {
        "colab": {
          "base_uri": "https://localhost:8080/"
        },
        "id": "Hh8HfqhJt3bO",
        "outputId": "3696e53b-5814-41ce-b889-0c1d749756f2"
      },
      "execution_count": 13,
      "outputs": [
        {
          "output_type": "stream",
          "name": "stdout",
          "text": [
            "Original tensor: [-2 -7]\n",
            "Absolute tensor: [2 7]\n"
          ]
        }
      ]
    },
    {
      "cell_type": "code",
      "source": [
        "tensor = tf.constant(np.random.randint(0, 100, size = 50), shape = (5, 2, 5))\n",
        "print(f\"{tensor.numpy()}\\nMinimum value of the tensor: {tf.reduce_min(tensor)}\\nMaximum value of the tensor: {tf.reduce_max(tensor)}\\nMean of the tensor: {tf.reduce_mean(tensor)}\\nSum of the tensor: {tf.reduce_sum(tensor)}\")"
      ],
      "metadata": {
        "colab": {
          "base_uri": "https://localhost:8080/"
        },
        "id": "gCM46EKvutQP",
        "outputId": "fb390e52-933a-4aac-9bb8-5387d4a58753"
      },
      "execution_count": 22,
      "outputs": [
        {
          "output_type": "stream",
          "name": "stdout",
          "text": [
            "[[[34 79 69 49 39]\n",
            "  [38  6 42 23 37]]\n",
            "\n",
            " [[46 60 60 22 72]\n",
            "  [15 25 52 23 23]]\n",
            "\n",
            " [[84 95 38 86 43]\n",
            "  [90  5 11 34  6]]\n",
            "\n",
            " [[51 25 17 24 24]\n",
            "  [44 42 72 67 39]]\n",
            "\n",
            " [[58 78 77 17 97]\n",
            "  [70 36 31 92 56]]]\n",
            "Minimum value of the tensor: 5\n",
            "Maximum value of the tensor: 97\n",
            "Mean of the tensor: 46\n",
            "Sum of the tensor: 2323\n"
          ]
        }
      ]
    },
    {
      "cell_type": "code",
      "source": [
        "import tensorflow_probability as tfp\n",
        "tensorFlat = tf.reshape(tensor, shape = (50))\n",
        "print(f\"Variance of the tensor: {tfp.stats.variance(tensorFlat)}\")"
      ],
      "metadata": {
        "colab": {
          "base_uri": "https://localhost:8080/"
        },
        "id": "mOP84Uq5vamC",
        "outputId": "38222d85-5681-4ba1-82cc-4ff5467ad236"
      },
      "execution_count": 35,
      "outputs": [
        {
          "output_type": "stream",
          "name": "stdout",
          "text": [
            "Variance of the tensor: 650\n"
          ]
        }
      ]
    },
    {
      "cell_type": "code",
      "source": [
        "print(f\"Standard deviation of the tensor: {tf.math.reduce_std(tf.cast(tensorFlat, dtype = tf.float32))}\") # Only works with real/complex inputs"
      ],
      "metadata": {
        "colab": {
          "base_uri": "https://localhost:8080/"
        },
        "id": "5abv781oyLNc",
        "outputId": "22fec404-b457-479d-d2ee-6c6e7b058de3"
      },
      "execution_count": 40,
      "outputs": [
        {
          "output_type": "stream",
          "name": "stdout",
          "text": [
            "Standard deviation of the tensor: 25.492124557495117\n"
          ]
        }
      ]
    },
    {
      "cell_type": "code",
      "source": [
        "# Indexing the max/min of a tensor\n",
        "print(tensor.numpy())\n",
        "print(f\"Argmax of the tensor: {tf.math.argmax(tensor)}\\nArgmin of the tensor: {tf.math.argmin(tensor)}\")\n",
        "print(tensorFlat.numpy())\n",
        "print(f\"Argmax of the flattened tensor: {tf.math.argmax(tensorFlat)}\\nArgmin of the flattened tensor: {tf.math.argmin(tensorFlat)}\")"
      ],
      "metadata": {
        "colab": {
          "base_uri": "https://localhost:8080/"
        },
        "id": "3_FkNDcTzfXR",
        "outputId": "be6c8401-44ae-47eb-de36-4fe16719c93f"
      },
      "execution_count": 45,
      "outputs": [
        {
          "output_type": "stream",
          "name": "stdout",
          "text": [
            "[[[34 79 69 49 39]\n",
            "  [38  6 42 23 37]]\n",
            "\n",
            " [[46 60 60 22 72]\n",
            "  [15 25 52 23 23]]\n",
            "\n",
            " [[84 95 38 86 43]\n",
            "  [90  5 11 34  6]]\n",
            "\n",
            " [[51 25 17 24 24]\n",
            "  [44 42 72 67 39]]\n",
            "\n",
            " [[58 78 77 17 97]\n",
            "  [70 36 31 92 56]]]\n",
            "Argmax of the tensor: [[2 2 4 2 4]\n",
            " [2 3 3 4 4]]\n",
            "Argmin of the tensor: [[0 3 3 4 3]\n",
            " [1 2 2 0 2]]\n",
            "[34 79 69 49 39 38  6 42 23 37 46 60 60 22 72 15 25 52 23 23 84 95 38 86\n",
            " 43 90  5 11 34  6 51 25 17 24 24 44 42 72 67 39 58 78 77 17 97 70 36 31\n",
            " 92 56]\n",
            "Argmax of the flattened tensor: 44\n",
            "Argmin of the flattened tensor: 26\n"
          ]
        }
      ]
    },
    {
      "cell_type": "code",
      "source": [
        "# Squeezing/Unsqueezing a tensor\n",
        "tensor = tf.random.uniform(shape = (1, 1, 1, 1, 50))\n",
        "print(f\"{tensor.numpy()}\\nTensor.ndim: {tensor.ndim}\")\n",
        "print(f\"Squeezed tensor.ndim: {tf.squeeze(tensor, axis = 0).ndim}\")\n",
        "print(f\"Unsqueezed tensor.ndim: {tf.expand_dims(tensor, axis = 0).ndim}\")"
      ],
      "metadata": {
        "colab": {
          "base_uri": "https://localhost:8080/"
        },
        "id": "mTCIQ4Nj0hIV",
        "outputId": "26c81d85-4d10-4211-c9ff-e72f3eb296ae"
      },
      "execution_count": 57,
      "outputs": [
        {
          "output_type": "stream",
          "name": "stdout",
          "text": [
            "[[[[[0.70623434 0.11550748 0.7788601  0.2622193  0.2999668  0.25942016\n",
            "     0.7712139  0.906829   0.76438904 0.86540794 0.9701414  0.47197628\n",
            "     0.10267639 0.45918858 0.26038718 0.33747816 0.79310954 0.6949699\n",
            "     0.607481   0.06066883 0.45438743 0.6322751  0.90195024 0.1920414\n",
            "     0.38311386 0.08330989 0.8553629  0.7127478  0.306504   0.451787\n",
            "     0.78712773 0.60103834 0.00271797 0.35027003 0.5642177  0.58296585\n",
            "     0.31810343 0.16030312 0.7012918  0.01277125 0.86926603 0.5855551\n",
            "     0.59014356 0.7234719  0.8580897  0.4313029  0.26071906 0.8269534\n",
            "     0.31711996 0.64558554]]]]]\n",
            "Tensor.ndim: 5\n",
            "Squeezed tensor.ndim: 4\n",
            "Unsqueezed tensor.ndim: 6\n"
          ]
        }
      ]
    },
    {
      "cell_type": "code",
      "source": [
        "# One-hot encoding tensors\n",
        "list = [0, 1, 2, 3]\n",
        "tf.one_hot(list, depth = 4)"
      ],
      "metadata": {
        "colab": {
          "base_uri": "https://localhost:8080/"
        },
        "id": "otX1PK6v2Wwg",
        "outputId": "aa835e9d-f737-4749-a0d6-4cb77399731d"
      },
      "execution_count": 58,
      "outputs": [
        {
          "output_type": "execute_result",
          "data": {
            "text/plain": [
              "<tf.Tensor: shape=(4, 4), dtype=float32, numpy=\n",
              "array([[1., 0., 0., 0.],\n",
              "       [0., 1., 0., 0.],\n",
              "       [0., 0., 1., 0.],\n",
              "       [0., 0., 0., 1.]], dtype=float32)>"
            ]
          },
          "metadata": {},
          "execution_count": 58
        }
      ]
    },
    {
      "cell_type": "code",
      "source": [
        "tf.one_hot(list, depth = 4, on_value = \"Run\", off_value = \"Hide\")"
      ],
      "metadata": {
        "colab": {
          "base_uri": "https://localhost:8080/"
        },
        "id": "lvbJuMNu4SSw",
        "outputId": "c753b95d-007f-48fe-a68f-1b09da280eae"
      },
      "execution_count": 59,
      "outputs": [
        {
          "output_type": "execute_result",
          "data": {
            "text/plain": [
              "<tf.Tensor: shape=(4, 4), dtype=string, numpy=\n",
              "array([[b'Run', b'Hide', b'Hide', b'Hide'],\n",
              "       [b'Hide', b'Run', b'Hide', b'Hide'],\n",
              "       [b'Hide', b'Hide', b'Run', b'Hide'],\n",
              "       [b'Hide', b'Hide', b'Hide', b'Run']], dtype=object)>"
            ]
          },
          "metadata": {},
          "execution_count": 59
        }
      ]
    },
    {
      "cell_type": "code",
      "source": [
        "tensor = tf.constant([[4, 3],\n",
        "                      [7, 1]], dtype = tf.float32)\n",
        "print(f\"{tensor.numpy()}\\nSquare of the tensor: {tf.square(tensor)}\\nSquare root of the tensor: {tf.sqrt(tensor)}\\nLogarithm of the tensor: {tf.math.log(tensor)}\")"
      ],
      "metadata": {
        "colab": {
          "base_uri": "https://localhost:8080/"
        },
        "id": "i-61wzyo4mG7",
        "outputId": "24113963-9ecc-4068-bd82-7d8012d76156"
      },
      "execution_count": 67,
      "outputs": [
        {
          "output_type": "stream",
          "name": "stdout",
          "text": [
            "[[4. 3.]\n",
            " [7. 1.]]\n",
            "Square of the tensor: [[16.  9.]\n",
            " [49.  1.]]\n",
            "Square root of the tensor: [[2.        1.7320508]\n",
            " [2.6457512 1.       ]]\n",
            "Logarithm of the tensor: [[1.3862944 1.0986123]\n",
            " [1.9459101 0.       ]]\n"
          ]
        }
      ]
    }
  ]
}