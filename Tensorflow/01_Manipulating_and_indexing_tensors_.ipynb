{
  "nbformat": 4,
  "nbformat_minor": 0,
  "metadata": {
    "colab": {
      "provenance": [],
      "authorship_tag": "ABX9TyOtNVO+zpnywVRbfaYGI3h4",
      "include_colab_link": true
    },
    "kernelspec": {
      "name": "python3",
      "display_name": "Python 3"
    },
    "language_info": {
      "name": "python"
    }
  },
  "cells": [
    {
      "cell_type": "markdown",
      "metadata": {
        "id": "view-in-github",
        "colab_type": "text"
      },
      "source": [
        "<a href=\"https://colab.research.google.com/github/Swooshnv/ML_Training/blob/main/01_Manipulating_and_indexing_tensors_.ipynb\" target=\"_parent\"><img src=\"https://colab.research.google.com/assets/colab-badge.svg\" alt=\"Open In Colab\"/></a>"
      ]
    },
    {
      "cell_type": "code",
      "execution_count": 1,
      "metadata": {
        "colab": {
          "base_uri": "https://localhost:8080/"
        },
        "id": "tEctGuvc6InJ",
        "outputId": "3d2bf815-503f-4403-a6ce-9a4daf26dfc7"
      },
      "outputs": [
        {
          "output_type": "execute_result",
          "data": {
            "text/plain": [
              "(array([ 0.,  1.,  2.,  3.,  4.,  5.,  6.,  7.,  8.,  9., 10., 11., 12.,\n",
              "        13., 14., 15., 16., 17., 18., 19., 20., 21., 22., 23., 24., 25.,\n",
              "        26., 27., 28., 29., 30., 31., 32., 33., 34., 35., 36., 37., 38.,\n",
              "        39., 40., 41., 42., 43., 44., 45., 46., 47., 48., 49.],\n",
              "       dtype=float32), <tf.Tensor: shape=(5, 2, 5), dtype=int32, numpy=\n",
              " array([[[ 0,  1,  2,  3,  4],\n",
              "         [ 5,  6,  7,  8,  9]],\n",
              " \n",
              "        [[10, 11, 12, 13, 14],\n",
              "         [15, 16, 17, 18, 19]],\n",
              " \n",
              "        [[20, 21, 22, 23, 24],\n",
              "         [25, 26, 27, 28, 29]],\n",
              " \n",
              "        [[30, 31, 32, 33, 34],\n",
              "         [35, 36, 37, 38, 39]],\n",
              " \n",
              "        [[40, 41, 42, 43, 44],\n",
              "         [45, 46, 47, 48, 49]]], dtype=int32)>)"
            ]
          },
          "metadata": {},
          "execution_count": 1
        }
      ],
      "source": [
        "import tensorflow as tf\n",
        "import numpy as np\n",
        "\n",
        "array = np.arange(0, 50, dtype = np.float32)\n",
        "Tensor = tf.constant(array, shape = (5, 2, 5), dtype = tf.int32)\n",
        "array, Tensor"
      ]
    },
    {
      "cell_type": "code",
      "source": [
        "# Getting the first two elements of each dimension\n",
        "Tensor[:2, :2, :2]"
      ],
      "metadata": {
        "colab": {
          "base_uri": "https://localhost:8080/"
        },
        "id": "uR9wiKQG6dht",
        "outputId": "3222275f-9969-468b-9405-afd89859a6cb"
      },
      "execution_count": 2,
      "outputs": [
        {
          "output_type": "execute_result",
          "data": {
            "text/plain": [
              "<tf.Tensor: shape=(2, 2, 2), dtype=int32, numpy=\n",
              "array([[[ 0,  1],\n",
              "        [ 5,  6]],\n",
              "\n",
              "       [[10, 11],\n",
              "        [15, 16]]], dtype=int32)>"
            ]
          },
          "metadata": {},
          "execution_count": 2
        }
      ]
    },
    {
      "cell_type": "code",
      "source": [
        "Tensor_2 = tf.constant([[[3, 5], [6, 2]],\n",
        "                        [[7, 1], [2, 9]],\n",
        "                        [[9, 1], [6, 6]]])\n",
        "Tensor_2"
      ],
      "metadata": {
        "colab": {
          "base_uri": "https://localhost:8080/"
        },
        "id": "AWe4cEZ269Qg",
        "outputId": "3c2ccc9e-11a0-470e-ffbc-f8d5d2e900ce"
      },
      "execution_count": 3,
      "outputs": [
        {
          "output_type": "execute_result",
          "data": {
            "text/plain": [
              "<tf.Tensor: shape=(3, 2, 2), dtype=int32, numpy=\n",
              "array([[[3, 5],\n",
              "        [6, 2]],\n",
              "\n",
              "       [[7, 1],\n",
              "        [2, 9]],\n",
              "\n",
              "       [[9, 1],\n",
              "        [6, 6]]], dtype=int32)>"
            ]
          },
          "metadata": {},
          "execution_count": 3
        }
      ]
    },
    {
      "cell_type": "code",
      "source": [
        "# Last item of each row of tensor\n",
        "Tensor_2[::, -1, -1]"
      ],
      "metadata": {
        "colab": {
          "base_uri": "https://localhost:8080/"
        },
        "id": "K583EZZs7ysw",
        "outputId": "0f6548ab-8b2a-4bd3-cb8c-32a59456f133"
      },
      "execution_count": 4,
      "outputs": [
        {
          "output_type": "execute_result",
          "data": {
            "text/plain": [
              "<tf.Tensor: shape=(3,), dtype=int32, numpy=array([2, 9, 6], dtype=int32)>"
            ]
          },
          "metadata": {},
          "execution_count": 4
        }
      ]
    },
    {
      "cell_type": "code",
      "source": [
        "# Ranking up a tensor\n",
        "reshapedTensor = tf.constant(Tensor_2, shape = (1, 3, 2, 2))\n",
        "Tensor_2.ndim, reshapedTensor.ndim\n",
        "reshapedTensor"
      ],
      "metadata": {
        "colab": {
          "base_uri": "https://localhost:8080/"
        },
        "id": "aZ78_TX68tTI",
        "outputId": "64730827-74bb-4ed6-bc63-fe5f6e081c51"
      },
      "execution_count": 5,
      "outputs": [
        {
          "output_type": "execute_result",
          "data": {
            "text/plain": [
              "<tf.Tensor: shape=(1, 3, 2, 2), dtype=int32, numpy=\n",
              "array([[[[3, 5],\n",
              "         [6, 2]],\n",
              "\n",
              "        [[7, 1],\n",
              "         [2, 9]],\n",
              "\n",
              "        [[9, 1],\n",
              "         [6, 6]]]], dtype=int32)>"
            ]
          },
          "metadata": {},
          "execution_count": 5
        }
      ]
    },
    {
      "cell_type": "code",
      "source": [
        "# In another way\n",
        "reshaped = Tensor_2[..., tf.newaxis]\n",
        "reshaped, reshaped.shape"
      ],
      "metadata": {
        "colab": {
          "base_uri": "https://localhost:8080/"
        },
        "id": "OmOd-fN49KBt",
        "outputId": "4afa645c-2db9-42c9-bd61-e90a507d4013"
      },
      "execution_count": 6,
      "outputs": [
        {
          "output_type": "execute_result",
          "data": {
            "text/plain": [
              "(<tf.Tensor: shape=(3, 2, 2, 1), dtype=int32, numpy=\n",
              " array([[[[3],\n",
              "          [5]],\n",
              " \n",
              "         [[6],\n",
              "          [2]]],\n",
              " \n",
              " \n",
              "        [[[7],\n",
              "          [1]],\n",
              " \n",
              "         [[2],\n",
              "          [9]]],\n",
              " \n",
              " \n",
              "        [[[9],\n",
              "          [1]],\n",
              " \n",
              "         [[6],\n",
              "          [6]]]], dtype=int32)>, TensorShape([3, 2, 2, 1]))"
            ]
          },
          "metadata": {},
          "execution_count": 6
        }
      ]
    },
    {
      "cell_type": "code",
      "source": [
        "expandedTensor = tf.expand_dims(Tensor_2, axis = -1)\n",
        "expandedTensor, expandedTensor.shape"
      ],
      "metadata": {
        "colab": {
          "base_uri": "https://localhost:8080/"
        },
        "id": "0JUCV-HK9nZe",
        "outputId": "04678921-4f8f-476a-fe3b-42f1a08d0a55"
      },
      "execution_count": 7,
      "outputs": [
        {
          "output_type": "execute_result",
          "data": {
            "text/plain": [
              "(<tf.Tensor: shape=(3, 2, 2, 1), dtype=int32, numpy=\n",
              " array([[[[3],\n",
              "          [5]],\n",
              " \n",
              "         [[6],\n",
              "          [2]]],\n",
              " \n",
              " \n",
              "        [[[7],\n",
              "          [1]],\n",
              " \n",
              "         [[2],\n",
              "          [9]]],\n",
              " \n",
              " \n",
              "        [[[9],\n",
              "          [1]],\n",
              " \n",
              "         [[6],\n",
              "          [6]]]], dtype=int32)>, TensorShape([3, 2, 2, 1]))"
            ]
          },
          "metadata": {},
          "execution_count": 7
        }
      ]
    },
    {
      "cell_type": "code",
      "source": [
        "tensor = tf.constant([[4, 6],\n",
        "                      [17, 3]])\n",
        "tensor, tensor * 10"
      ],
      "metadata": {
        "id": "O7pkeX2B99hU",
        "colab": {
          "base_uri": "https://localhost:8080/"
        },
        "outputId": "384680b3-b293-4f90-e236-cfef31d6a732"
      },
      "execution_count": 8,
      "outputs": [
        {
          "output_type": "execute_result",
          "data": {
            "text/plain": [
              "(<tf.Tensor: shape=(2, 2), dtype=int32, numpy=\n",
              " array([[ 4,  6],\n",
              "        [17,  3]], dtype=int32)>, <tf.Tensor: shape=(2, 2), dtype=int32, numpy=\n",
              " array([[ 40,  60],\n",
              "        [170,  30]], dtype=int32)>)"
            ]
          },
          "metadata": {},
          "execution_count": 8
        }
      ]
    },
    {
      "cell_type": "code",
      "source": [
        "tensor + 10"
      ],
      "metadata": {
        "colab": {
          "base_uri": "https://localhost:8080/"
        },
        "id": "73a4Hf-LgBxL",
        "outputId": "909c224a-a044-4960-bc0c-ba4bc26adc5a"
      },
      "execution_count": 9,
      "outputs": [
        {
          "output_type": "execute_result",
          "data": {
            "text/plain": [
              "<tf.Tensor: shape=(2, 2), dtype=int32, numpy=\n",
              "array([[14, 16],\n",
              "       [27, 13]], dtype=int32)>"
            ]
          },
          "metadata": {},
          "execution_count": 9
        }
      ]
    },
    {
      "cell_type": "code",
      "source": [
        "tensor -= 1\n",
        "tensor"
      ],
      "metadata": {
        "colab": {
          "base_uri": "https://localhost:8080/"
        },
        "id": "nrNNLBDcgCgn",
        "outputId": "7304a3c8-ca35-4fd3-936c-b70a17b06b62"
      },
      "execution_count": 10,
      "outputs": [
        {
          "output_type": "execute_result",
          "data": {
            "text/plain": [
              "<tf.Tensor: shape=(2, 2), dtype=int32, numpy=\n",
              "array([[ 3,  5],\n",
              "       [16,  2]], dtype=int32)>"
            ]
          },
          "metadata": {},
          "execution_count": 10
        }
      ]
    },
    {
      "cell_type": "code",
      "source": [
        "result = tf.multiply(tensor, 5)\n",
        "result"
      ],
      "metadata": {
        "colab": {
          "base_uri": "https://localhost:8080/"
        },
        "id": "ohokZalagFIy",
        "outputId": "38c496da-e20a-4ef3-be23-9d5bf402eb2a"
      },
      "execution_count": 11,
      "outputs": [
        {
          "output_type": "execute_result",
          "data": {
            "text/plain": [
              "<tf.Tensor: shape=(2, 2), dtype=int32, numpy=\n",
              "array([[15, 25],\n",
              "       [80, 10]], dtype=int32)>"
            ]
          },
          "metadata": {},
          "execution_count": 11
        }
      ]
    },
    {
      "cell_type": "code",
      "source": [
        "result = tf.add(tensor, 150)\n",
        "result"
      ],
      "metadata": {
        "colab": {
          "base_uri": "https://localhost:8080/"
        },
        "id": "Bm3CUyy4gmeH",
        "outputId": "720b1c97-bca2-448d-dabc-fc8eda052ffe"
      },
      "execution_count": 12,
      "outputs": [
        {
          "output_type": "execute_result",
          "data": {
            "text/plain": [
              "<tf.Tensor: shape=(2, 2), dtype=int32, numpy=\n",
              "array([[153, 155],\n",
              "       [166, 152]], dtype=int32)>"
            ]
          },
          "metadata": {},
          "execution_count": 12
        }
      ]
    },
    {
      "cell_type": "code",
      "source": [
        "matrix = tf.constant([[4, 5],\n",
        "                      [7, 2]])\n",
        "matrixTwo = tf.constant([[5, 1],\n",
        "                        [9, 7]])\n",
        "matrix, matrixTwo"
      ],
      "metadata": {
        "colab": {
          "base_uri": "https://localhost:8080/"
        },
        "id": "-FGi28cdg6C1",
        "outputId": "6d0c9f5e-9f22-478a-9887-b6c7654c1b46"
      },
      "execution_count": 14,
      "outputs": [
        {
          "output_type": "execute_result",
          "data": {
            "text/plain": [
              "(<tf.Tensor: shape=(2, 2), dtype=int32, numpy=\n",
              " array([[4, 5],\n",
              "        [7, 2]], dtype=int32)>, <tf.Tensor: shape=(2, 2), dtype=int32, numpy=\n",
              " array([[5, 1],\n",
              "        [9, 7]], dtype=int32)>)"
            ]
          },
          "metadata": {},
          "execution_count": 14
        }
      ]
    },
    {
      "cell_type": "code",
      "source": [
        "# Multiplication of matrices\n",
        "print(f\"Using tf.matmul: {tf.matmul(matrix, matrixTwo).numpy()}\")\n",
        "# Same as above but with python command\n",
        "print(f\"Using \\\"@\\\" Command:  {matrix @ matrixTwo}\")"
      ],
      "metadata": {
        "id": "OmyFe84p9d75",
        "colab": {
          "base_uri": "https://localhost:8080/"
        },
        "outputId": "72dd2e0f-3a2a-4775-fbbb-a30b1fe7b162"
      },
      "execution_count": 18,
      "outputs": [
        {
          "output_type": "stream",
          "name": "stdout",
          "text": [
            "Using tf.matmul: [[65 39]\n",
            " [53 21]]\n",
            "Using \"@\" Command:  [[65 39]\n",
            " [53 21]]\n"
          ]
        }
      ]
    },
    {
      "cell_type": "code",
      "source": [
        "tensor = tf.constant([[1, 2, 3],\n",
        "                      [4, 5, 6]])\n",
        "tensorTwo = tf.constant([[1, 2, 3],\n",
        "                      [4, 5, 6]])"
      ],
      "metadata": {
        "id": "hwPoRHc0RPjS"
      },
      "execution_count": 19,
      "outputs": []
    },
    {
      "cell_type": "code",
      "source": [
        "reshaped = tf.reshape(tensorTwo, shape = (3, 2))\n",
        "print(tensor.numpy())\n",
        "print(reshaped.numpy())\n",
        "print(f\"Dot product of the tensors: {tf.matmul(tensor, reshaped)}\")"
      ],
      "metadata": {
        "colab": {
          "base_uri": "https://localhost:8080/"
        },
        "id": "fV9J0zrMezDp",
        "outputId": "e2def643-2e66-460d-b6dc-c7218c368f5d"
      },
      "execution_count": 24,
      "outputs": [
        {
          "output_type": "stream",
          "name": "stdout",
          "text": [
            "[[1 2 3]\n",
            " [4 5 6]]\n",
            "[[1 2]\n",
            " [3 4]\n",
            " [5 6]]\n",
            "Dot product of the tensors: [[22 28]\n",
            " [49 64]]\n"
          ]
        }
      ]
    },
    {
      "cell_type": "code",
      "source": [
        "transposed = tf.transpose(tensorTwo)\n",
        "print(tensor.numpy())\n",
        "print(transposed.numpy())\n",
        "print(f\"Dot product of the tensors: {tf.matmul(tensor, transposed)}\")"
      ],
      "metadata": {
        "colab": {
          "base_uri": "https://localhost:8080/"
        },
        "id": "00FKclFce9bD",
        "outputId": "1419d32a-c014-438b-8ddc-13630a0473aa"
      },
      "execution_count": 25,
      "outputs": [
        {
          "output_type": "stream",
          "name": "stdout",
          "text": [
            "[[1 2 3]\n",
            " [4 5 6]]\n",
            "[[1 4]\n",
            " [2 5]\n",
            " [3 6]]\n",
            "Dot product of the tensors: [[14 32]\n",
            " [32 77]]\n"
          ]
        }
      ]
    }
  ]
}
